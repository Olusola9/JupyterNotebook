{
  "metadata": {
    "language_info": {
      "codemirror_mode": {
        "name": "python",
        "version": 3
      },
      "file_extension": ".py",
      "mimetype": "text/x-python",
      "name": "python",
      "nbconvert_exporter": "python",
      "pygments_lexer": "ipython3",
      "version": "3.8"
    },
    "kernelspec": {
      "name": "python",
      "display_name": "Pyolite",
      "language": "python"
    }
  },
  "nbformat_minor": 4,
  "nbformat": 4,
  "cells": [
    {
      "cell_type": "markdown",
      "source": "# Data Science Tools and Ecosystem",
      "metadata": {}
    },
    {
      "cell_type": "markdown",
      "source": "In this notebook, Data Science Tools and Ecosystem are summarized.",
      "metadata": {}
    },
    {
      "cell_type": "markdown",
      "source": "**Objectives**",
      "metadata": {}
    },
    {
      "cell_type": "markdown",
      "source": "**Jupyter Notebook** is a browser based application that allows you to create and share documents that contains code, equations, visualizations, narrative text links and so much more.\nThis notebook allows a data scientist to combine descriptive text, code blocks and code output in a single file. When you run the code, it generate the output including plots and tables, within the notebook file. And you can then export the notebook ot a PDF or HTML file that can be shatred with anyone.\nJupyter notebook is orginated as iPython and it's originally developed for the Python Programming Language. As it came to support additional languages, it was renamed Jupyter, which stands forn; Julia-Python-R.\nBut nowadays, Jupyter notebook supports many other languages as well.\n\n**Jupyter Lab** is a browser based application that allows you to access multiple Jupyter notebook files as well as other code and data files.\n\n**Anaconda** is one of the popular distributions which includes Jupyter and Jupyter lab.\n\n**Jupyter Kernels** is a notebook kernels which is a computational engine that executes the code contained in a notebook file.\n\n**Jupyter Architecture** is refers to as when Jupyter implements a two process model with a kernel and a client. The client is the interface offering the user the ability to send the code to a kernel.",
      "metadata": {}
    },
    {
      "cell_type": "markdown",
      "source": "Some of the popular languages that Data Scientists use are:\n1. Python\n2. SQL\n3. R\n4. Scala\n5. Julia\n6. Javascript\n7. Java",
      "metadata": {}
    },
    {
      "cell_type": "markdown",
      "source": "Some of the commonly used libraries used by Data Scientists include:",
      "metadata": {}
    },
    {
      "cell_type": "markdown",
      "source": "1. Pandas\n2. TensorFlow\n3. NumPy",
      "metadata": {}
    },
    {
      "cell_type": "markdown",
      "source": "| Data Science Tools |\n|-------------------|\n| RStudio |\n| Apache Spark |\n| TensorFlow |",
      "metadata": {}
    },
    {
      "cell_type": "markdown",
      "source": "### Below are a few examples of evaluating arithmetic expressions in Python",
      "metadata": {}
    },
    {
      "cell_type": "markdown",
      "source": "This a simple arithmetic expression to mutiply then add integers",
      "metadata": {}
    },
    {
      "cell_type": "code",
      "source": "(3*4)+5",
      "metadata": {
        "trusted": true
      },
      "execution_count": 8,
      "outputs": [
        {
          "execution_count": 8,
          "output_type": "execute_result",
          "data": {
            "text/plain": "17"
          },
          "metadata": {}
        }
      ]
    },
    {
      "cell_type": "markdown",
      "source": "This will convert 200 minutes to hours by diving by 60",
      "metadata": {}
    },
    {
      "cell_type": "code",
      "source": "(200)/60",
      "metadata": {
        "trusted": true
      },
      "execution_count": 11,
      "outputs": [
        {
          "execution_count": 11,
          "output_type": "execute_result",
          "data": {
            "text/plain": "3.3333333333333335"
          },
          "metadata": {}
        }
      ]
    },
    {
      "cell_type": "markdown",
      "source": "## Author",
      "metadata": {}
    },
    {
      "cell_type": "markdown",
      "source": "Olusola Bakare",
      "metadata": {}
    },
    {
      "cell_type": "code",
      "source": "",
      "metadata": {},
      "execution_count": null,
      "outputs": []
    }
  ]
}